{
 "cells": [
  {
   "cell_type": "code",
   "execution_count": 10,
   "metadata": {},
   "outputs": [],
   "source": [
    "import numpy as np\n",
    "import pandas as pd\n",
    "from small_text import LeastConfidence, PoolBasedActiveLearner, random_initialization_balanced, QueryStrategy, TransformersDataset\n",
    "from sklearn.metrics import accuracy_score, recall_score, f1_score, precision_score\n",
    "from synergy_dataset import Dataset, iter_datasets\n",
    "\n",
    "from small_text.classifiers.factories import SklearnClassifierFactory\n",
    "from sklearn.naive_bayes import MultinomialNB\n",
    "from small_text.data.datasets import SklearnDataset\n",
    "from sklearn.feature_extraction.text import TfidfVectorizer\n",
    "\n",
    "from imblearn.over_sampling import SMOTEN\n",
    "\n",
    "from sklearn.model_selection import train_test_split\n",
    "import matplotlib.pyplot as plt\n",
    "\n",
    "from sentence_transformers import SentenceTransformer, util\n",
    "from transformers import AutoTokenizer"
   ]
  },
  {
   "cell_type": "code",
   "execution_count": null,
   "metadata": {},
   "outputs": [],
   "source": [
    "def query_cosine_similarity(QueryStrategy):\n",
    "    def query(self, clf, dataset, indices_unlabeled, indices_labeled, y, n=10):\n",
    "        results = []\n",
    "        for index in indices_unlabeled:\n",
    "            similarity = util.cos_sim(dataset[indices_labeled], dataset[index])\n",
    "            results.append((index, similarity.item()))\n",
    "        results.sort(key=lambda x: x[1], reverse=True)\n",
    "        return [index for index, similarity in results[:n]]"
   ]
  },
  {
   "cell_type": "code",
   "execution_count": 2,
   "metadata": {},
   "outputs": [],
   "source": [
    "def cria_dataset(dataset):\n",
    "    ds = Dataset(dataset)\n",
    "    ds = ds.to_frame()\n",
    "    ds = ds.fillna('')\n",
    "    title = ds['title']\n",
    "    abstract = ds['abstract']\n",
    "    X = np.array([x[0] + ' ' + x[1] for x in zip(title, abstract)])\n",
    "    y = np.array(ds['label_included'])\n",
    "\n",
    "    return X, y"
   ]
  },
  {
   "cell_type": "code",
   "execution_count": 11,
   "metadata": {},
   "outputs": [],
   "source": [
    "dataset = 'Muthu_2021'\n",
    "model_checkpoint = 'all-distilroberta-v1'\n",
    "transformer_model = 'allenai/specter2_base'\n",
    "model = SentenceTransformer(model_checkpoint)\n",
    "tokenizer = AutoTokenizer.from_pretrained(transformer_model)"
   ]
  },
  {
   "cell_type": "code",
   "execution_count": 12,
   "metadata": {},
   "outputs": [
    {
     "name": "stderr",
     "output_type": "stream",
     "text": [
      "/home/junior/Mestrado Comp Ifes/Dissertação/small-text/.venv/lib/python3.8/site-packages/small_text/utils/annotations.py:67: ExperimentalWarning: The function from_arrays is experimental and maybe subject to change soon.\n",
      "  warnings.warn(f'The {subject} {func_or_class.__name__} is experimental '\n"
     ]
    }
   ],
   "source": [
    "X, y = cria_dataset(dataset)\n",
    "ds = TransformersDataset.from_arrays(X, y, tokenizer, target_labels=np.array([0, 1]), max_length=128)"
   ]
  },
  {
   "cell_type": "code",
   "execution_count": 15,
   "metadata": {},
   "outputs": [
    {
     "ename": "AttributeError",
     "evalue": "'list' object has no attribute 'shape'",
     "output_type": "error",
     "traceback": [
      "\u001b[0;31m---------------------------------------------------------------------------\u001b[0m",
      "\u001b[0;31mAttributeError\u001b[0m                            Traceback (most recent call last)",
      "Cell \u001b[0;32mIn[15], line 1\u001b[0m\n\u001b[0;32m----> 1\u001b[0m \u001b[43mds\u001b[49m\u001b[38;5;241;43m.\u001b[39;49m\u001b[43mx\u001b[49m\u001b[38;5;241;43m.\u001b[39;49m\u001b[43mshape\u001b[49m\n",
      "\u001b[0;31mAttributeError\u001b[0m: 'list' object has no attribute 'shape'"
     ]
    }
   ],
   "source": []
  }
 ],
 "metadata": {
  "kernelspec": {
   "display_name": ".venv",
   "language": "python",
   "name": "python3"
  },
  "language_info": {
   "codemirror_mode": {
    "name": "ipython",
    "version": 3
   },
   "file_extension": ".py",
   "mimetype": "text/x-python",
   "name": "python",
   "nbconvert_exporter": "python",
   "pygments_lexer": "ipython3",
   "version": "3.8.10"
  }
 },
 "nbformat": 4,
 "nbformat_minor": 2
}
