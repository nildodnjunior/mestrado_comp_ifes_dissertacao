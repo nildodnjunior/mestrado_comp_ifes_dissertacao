{
 "cells": [
  {
   "cell_type": "code",
   "execution_count": 22,
   "metadata": {},
   "outputs": [],
   "source": [
    "import numpy as np\n",
    "import pandas as pd\n",
    "from small_text import LeastConfidence, PoolBasedActiveLearner, random_initialization_balanced as init\n",
    "from sklearn.metrics import accuracy_score, recall_score, f1_score, precision_score\n",
    "from synergy_dataset import Dataset, iter_datasets\n",
    "\n",
    "from imblearn.over_sampling import SMOTEN\n",
    "\n",
    "from sklearn.model_selection import train_test_split\n",
    "import matplotlib.pyplot as plt\n",
    "\n",
    "from small_text.classifiers.classification import SklearnClassifier\n",
    "from small_text.classifiers.factories import SklearnClassifierFactory\n",
    "from sklearn.naive_bayes import MultinomialNB\n",
    "from small_text.data.datasets import SklearnDataset\n",
    "from sklearn.feature_extraction.text import TfidfVectorizer\n",
    "\n",
    "from small_text import TransformersDataset, TransformerModelArguments, TransformerBasedClassificationFactory as TransformerFactory\n",
    "from small_text.data.datasets import TextDataset\n",
    "from transformers import AutoTokenizer\n",
    "import torch"
   ]
  },
  {
   "cell_type": "code",
   "execution_count": 23,
   "metadata": {},
   "outputs": [],
   "source": [
    "dataset = Dataset('Leenaars_2020')\n",
    "dataset = dataset.to_frame()\n",
    "# dataset = pd.read_csv('../datasets/synergy_dataset/Radjenovic_2013.csv')\n",
    "dataset = dataset.dropna()\n",
    "X = np.array(dataset['abstract'])\n",
    "y = np.array(dataset['label_included'])\n",
    "\n",
    "X_train, X_test, y_train, y_test = train_test_split(X, y, test_size=0.33, random_state=42)"
   ]
  },
  {
   "cell_type": "code",
   "execution_count": 24,
   "metadata": {},
   "outputs": [],
   "source": [
    "sampler = SMOTEN(random_state=42)\n",
    "X_train_os, y_train_os = sampler.fit_resample(X_train.reshape(-1, 1), y_train)"
   ]
  },
  {
   "cell_type": "code",
   "execution_count": 25,
   "metadata": {},
   "outputs": [
    {
     "name": "stderr",
     "output_type": "stream",
     "text": [
      "/home/junior/Mestrado Comp Ifes/Dissertação/small-text/.venv/lib/python3.8/site-packages/small_text/utils/annotations.py:67: ExperimentalWarning: The function from_arrays is experimental and maybe subject to change soon.\n",
      "  warnings.warn(f'The {subject} {func_or_class.__name__} is experimental '\n",
      "/home/junior/Mestrado Comp Ifes/Dissertação/small-text/.venv/lib/python3.8/site-packages/small_text/data/datasets.py:437: DeprecationWarning: The function get_flattened_unique_labels has been deprecated in 1.1.0 and will be removed in 2.0.0.\n",
      "  encountered_labels = get_flattened_unique_labels(self)\n"
     ]
    }
   ],
   "source": [
    "num_classes = 2\n",
    "\n",
    "factory_nb = SklearnClassifierFactory(MultinomialNB(), num_classes)\n",
    "vectorizer = TfidfVectorizer()\n",
    "\n",
    "train_nb = SklearnDataset.from_arrays(X_train_os.flatten(), y_train_os, vectorizer, target_labels=np.array([0, 1]))\n",
    "test_nb = SklearnDataset.from_arrays(X_test.flatten(), y_test, vectorizer, target_labels=np.array([0, 1]), train=False)"
   ]
  },
  {
   "cell_type": "code",
   "execution_count": 26,
   "metadata": {},
   "outputs": [],
   "source": [
    "transformer_model = 'bert-base-uncased'\n",
    "tokenizer = AutoTokenizer.from_pretrained(transformer_model)\n",
    "train_transformer = TransformersDataset.from_arrays(X_train_os.flatten(), y_train_os, tokenizer, target_labels=np.array([0, 1]), max_length=256)\n",
    "test_transformer = TransformersDataset.from_arrays(X_test, y_test, tokenizer, target_labels=np.array([0, 1]), max_length=256) #max_length > 256 geralmente ultrapassa a RAM da GPU (8GB)\n",
    "\n",
    "model_args = TransformerModelArguments(transformer_model)\n",
    "factory_transformer = TransformerFactory(model_args, num_classes, kwargs={'device': 'cuda'})"
   ]
  },
  {
   "cell_type": "code",
   "execution_count": 48,
   "metadata": {},
   "outputs": [
    {
     "name": "stderr",
     "output_type": "stream",
     "text": [
      "/home/junior/Mestrado Comp Ifes/Dissertação/small-text/.venv/lib/python3.8/site-packages/small_text/data/datasets.py:437: DeprecationWarning: The function get_flattened_unique_labels has been deprecated in 1.1.0 and will be removed in 2.0.0.\n",
      "  encountered_labels = get_flattened_unique_labels(self)\n"
     ]
    }
   ],
   "source": [
    "query_strategy = LeastConfidence()\n",
    "active_learner_nb = PoolBasedActiveLearner(factory_nb, query_strategy, train_nb)\n",
    "\n",
    "active_learner_transformer = PoolBasedActiveLearner(factory_transformer, query_strategy, train_transformer)\n",
    "\n",
    "indices_initial = init(train_nb.y, n_samples=10)\n",
    "active_learner_nb.initialize_data(indices_initial, train_nb.y[indices_initial])"
   ]
  },
  {
   "cell_type": "code",
   "execution_count": null,
   "metadata": {},
   "outputs": [],
   "source": [
    "num_queries = 10\n",
    "results = []\n",
    "indices_labeled = []\n",
    "\n",
    "for i in range(num_queries):\n",
    "    if i < 3:\n",
    "        indices_queried = active_learner_nb.query(num_samples=20)\n",
    "        y = train_nb.y[indices_queried]\n",
    "        active_learner_nb.update(y)\n",
    "        indices_labeled = np.concatenate([indices_queried, indices_labeled])\n",
    "\n",
    "        y_pred_train = active_learner_nb.classifier.predict(train_nb)\n",
    "        y_pred_test = active_learner_nb.classifier.predict(test_nb)\n",
    "        print(f'\\nIteration {i+1} ({len(indices_labeled)} samples)')\n",
    "        print('Train accuracy: {:.2f}'.format(accuracy_score(train_nb.y, y_pred_train)))\n",
    "        print('Train precision: {:.2f}'.format(precision_score(train_nb.y, y_pred_train, zero_division=np.nan)))\n",
    "        print('Train recall: {:.2f}'.format(recall_score(train_nb.y, y_pred_train, zero_division=np.nan)))\n",
    "        print('Train F1 score: {:.2f}'.format(f1_score(train_nb.y, y_pred_train)))\n",
    "        print('\\n')\n",
    "        print('Test accuracy: {:.2f}'.format(accuracy_score(test_nb.y, y_pred_test)))\n",
    "        print('Test precision: {:.2f}'.format(precision_score(test_nb.y, y_pred_test, zero_division=np.nan)))\n",
    "        print('Test recall: {:.2f}'.format(recall_score(test_nb.y, y_pred_test, zero_division=np.nan)))\n",
    "        print('Test F1 score: {:.2f}'.format(f1_score(test_nb.y, y_pred_test)))\n",
    "\n",
    "        results.append([accuracy_score(train_nb.y, y_pred_train), accuracy_score(test_nb.y, y_pred_test), f1_score(train_nb.y, y_pred_train), f1_score(test_nb.y, y_pred_test), f1_score(train_nb.y, y_pred_train), f1_score(test_nb.y, y_pred_test), recall_score(train_nb.y, y_pred_train), recall_score(test_nb.y, y_pred_test)])\n",
    "        if i == 2:\n",
    "            active_learner_transformer.initialize_data(active_learner_nb.indices_labeled, active_learner_nb.y)\n",
    "    else:\n",
    "        indices_queried = active_learner_transformer.query(num_samples=20)\n",
    "        y = train_transformer.y[indices_queried]\n",
    "        active_learner_transformer.update(y)\n",
    "        indices_labeled = np.concatenate([indices_queried, indices_labeled])\n",
    "\n",
    "        y_pred_train = active_learner_transformer.classifier.predict(train_transformer)\n",
    "        y_pred_test = active_learner_transformer.classifier.predict(test_transformer)\n",
    "        print(f'\\nIteration {i+1} ({len(indices_labeled)} samples)')\n",
    "        print('Train accuracy: {:.2f}'.format(accuracy_score(train_transformer.y, y_pred_train)))\n",
    "        print('Train precision: {:.2f}'.format(precision_score(train_transformer.y, y_pred_train, zero_division=np.nan)))\n",
    "        print('Train recall: {:.2f}'.format(recall_score(train_transformer.y, y_pred_train, zero_division=np.nan)))\n",
    "        print('Train F1 score: {:.2f}'.format(f1_score(train_transformer.y, y_pred_train)))\n",
    "        print('\\n')\n",
    "        print('Test accuracy: {:.2f}'.format(accuracy_score(test_transformer.y, y_pred_test)))\n",
    "        print('Test precision: {:.2f}'.format(precision_score(test_transformer.y, y_pred_test, zero_division=np.nan)))\n",
    "        print('Test recall: {:.2f}'.format(recall_score(test_transformer.y, y_pred_test, zero_division=np.nan)))\n",
    "        print('Test F1 score: {:.2f}'.format(f1_score(test_transformer.y, y_pred_test)))\n",
    "\n",
    "        results.append([accuracy_score(train_transformer.y, y_pred_train), accuracy_score(test_transformer.y, y_pred_test), f1_score(train_transformer.y, y_pred_train), f1_score(test_transformer.y, y_pred_test), f1_score(train_transformer.y, y_pred_train), f1_score(test_transformer.y, y_pred_test), recall_score(train_transformer.y, y_pred_train), recall_score(test_transformer.y, y_pred_test)])"
   ]
  },
  {
   "cell_type": "code",
   "execution_count": null,
   "metadata": {},
   "outputs": [],
   "source": [
    "#Plotando resultados\n",
    "acc_treino = []\n",
    "acc_teste = []\n",
    "f1_treino = []\n",
    "f1_teste = []\n",
    "recall_treino = []\n",
    "recall_teste = []\n",
    "\n",
    "def plota_resultados(treino, teste, metrica):\n",
    "    fig = plt.figure(figsize=(12, 8))\n",
    "    ax = plt.axes()\n",
    "    ax.plot(np.arange(1, len(treino)+1), treino, label=f'{metrica} treino')\n",
    "    ax.plot(np.arange(1, len(treino)+1), teste, label=f'{metrica} teste')\n",
    "    ax.legend(loc='lower right')\n",
    "    plt.xticks(np.arange(1, len(treino)+1))\n",
    "    plt.ylim((0.0, 1.0))\n",
    "    plt.ylabel(metrica)\n",
    "    plt.xlabel('Número de iterações')\n",
    "    plt.title(f'{metrica} treino x teste')\n",
    "    plt.savefig(f'{metrica}.png')\n",
    "\n",
    "\n",
    "for result in results:\n",
    "    acc_treino.append(result[0])\n",
    "    acc_teste.append(result[1])\n",
    "    f1_treino.append(result[2])\n",
    "    f1_teste.append(result[3])\n",
    "    recall_treino.append(result[4])\n",
    "    recall_teste.append(result[5])\n",
    "\n",
    "plota_resultados(acc_treino, acc_teste, 'Accuracy_score')\n",
    "plota_resultados(f1_treino, f1_teste, 'F1_score')\n",
    "plota_resultados(recall_treino, recall_teste, 'Recall')"
   ]
  }
 ],
 "metadata": {
  "kernelspec": {
   "display_name": ".venv",
   "language": "python",
   "name": "python3"
  },
  "language_info": {
   "codemirror_mode": {
    "name": "ipython",
    "version": 3
   },
   "file_extension": ".py",
   "mimetype": "text/x-python",
   "name": "python",
   "nbconvert_exporter": "python",
   "pygments_lexer": "ipython3",
   "version": "3.8.10"
  }
 },
 "nbformat": 4,
 "nbformat_minor": 2
}
