{
 "cells": [
  {
   "cell_type": "code",
   "execution_count": 1,
   "metadata": {},
   "outputs": [
    {
     "name": "stderr",
     "output_type": "stream",
     "text": [
      "/home/junior/Mestrado Comp Ifes/Dissertação/small-text/.venv/lib/python3.8/site-packages/tqdm/auto.py:21: TqdmWarning: IProgress not found. Please update jupyter and ipywidgets. See https://ipywidgets.readthedocs.io/en/stable/user_install.html\n",
      "  from .autonotebook import tqdm as notebook_tqdm\n"
     ]
    }
   ],
   "source": [
    "import numpy as np\n",
    "import pandas as pd\n",
    "from small_text import TransformersDataset, TransformerModelArguments, LeastConfidence, TransformerBasedClassificationFactory as TransformerFactory, PoolBasedActiveLearner, random_initialization_balanced as init\n",
    "from transformers import AutoTokenizer\n",
    "from sklearn.metrics import accuracy_score, recall_score, f1_score, precision_score\n",
    "from synergy_dataset import Dataset, iter_datasets"
   ]
  },
  {
   "cell_type": "code",
   "execution_count": 2,
   "metadata": {},
   "outputs": [],
   "source": [
    "d = Dataset('Nelson_2002')\n",
    "dataset = d.to_frame()\n",
    "# dataset = pd.read_csv('../datasets/synergy_dataset/Radjenovic_2013.csv')\n",
    "dataset = dataset.dropna()"
   ]
  },
  {
   "cell_type": "code",
   "execution_count": 3,
   "metadata": {},
   "outputs": [],
   "source": [
    "text = np.array(dataset['abstract'])\n",
    "labels = np.array(dataset['label_included'])"
   ]
  },
  {
   "cell_type": "code",
   "execution_count": 4,
   "metadata": {},
   "outputs": [],
   "source": [
    "transformer_model = 'allenai/specter2_base'\n",
    "# transformer_model = 'bert-base-uncased'\n",
    "tokenizer = AutoTokenizer.from_pretrained(transformer_model)"
   ]
  },
  {
   "cell_type": "code",
   "execution_count": 5,
   "metadata": {},
   "outputs": [
    {
     "name": "stderr",
     "output_type": "stream",
     "text": [
      "/home/junior/Mestrado Comp Ifes/Dissertação/small-text/.venv/lib/python3.8/site-packages/small_text/utils/annotations.py:67: ExperimentalWarning: The function from_arrays is experimental and maybe subject to change soon.\n",
      "  warnings.warn(f'The {subject} {func_or_class.__name__} is experimental '\n"
     ]
    }
   ],
   "source": [
    "train = TransformersDataset.from_arrays(text, labels, tokenizer, target_labels=np.array([0, 1]), max_length=128)\n",
    "#max_length > 256 geralmente ultrapassa a RAM da GPU (8GB)"
   ]
  },
  {
   "cell_type": "code",
   "execution_count": 6,
   "metadata": {},
   "outputs": [],
   "source": [
    "num_classes = 2\n",
    "model_args = TransformerModelArguments(transformer_model)\n",
    "clf_factory = TransformerFactory(model_args, num_classes, kwargs={'device': 'cuda'})\n",
    "query_strategy = LeastConfidence()"
   ]
  },
  {
   "cell_type": "code",
   "execution_count": 7,
   "metadata": {},
   "outputs": [],
   "source": [
    "active_learner = PoolBasedActiveLearner(clf_factory, query_strategy, train)\n",
    "\n",
    "indices_initial = init(train.y, n_samples=4)\n",
    "\n",
    "active_learner.initialize_data(indices_initial, train.y[indices_initial])"
   ]
  },
  {
   "cell_type": "code",
   "execution_count": 8,
   "metadata": {},
   "outputs": [
    {
     "name": "stdout",
     "output_type": "stream",
     "text": [
      "\n",
      "Iteration 1\n",
      "Train accuracy: 0.76\n",
      "Train precision: nan\n",
      "Train recall: 0.00\n",
      "Train F1 score: 0.00\n",
      "\n",
      "Iteration 2\n",
      "Train accuracy: 0.79\n",
      "Train precision: 0.90\n",
      "Train recall: 0.12\n",
      "Train F1 score: 0.21\n",
      "\n",
      "Iteration 3\n",
      "Train accuracy: 0.76\n",
      "Train precision: nan\n",
      "Train recall: 0.00\n",
      "Train F1 score: 0.00\n",
      "\n",
      "Iteration 4\n",
      "Train accuracy: 0.79\n",
      "Train precision: 0.65\n",
      "Train recall: 0.29\n",
      "Train F1 score: 0.40\n",
      "\n",
      "Iteration 5\n",
      "Train accuracy: 0.82\n",
      "Train precision: 0.91\n",
      "Train recall: 0.26\n",
      "Train F1 score: 0.40\n",
      "\n",
      "Iteration 6\n",
      "Train accuracy: 0.83\n",
      "Train precision: 0.82\n",
      "Train recall: 0.35\n",
      "Train F1 score: 0.49\n",
      "\n",
      "Iteration 7\n",
      "Train accuracy: 0.84\n",
      "Train precision: 0.86\n",
      "Train recall: 0.40\n",
      "Train F1 score: 0.55\n",
      "\n",
      "Iteration 8\n",
      "Train accuracy: 0.86\n",
      "Train precision: 0.86\n",
      "Train recall: 0.48\n",
      "Train F1 score: 0.62\n",
      "\n",
      "Iteration 9\n",
      "Train accuracy: 0.87\n",
      "Train precision: 0.88\n",
      "Train recall: 0.55\n",
      "Train F1 score: 0.67\n",
      "\n",
      "Iteration 10\n",
      "Train accuracy: 0.89\n",
      "Train precision: 0.98\n",
      "Train recall: 0.53\n",
      "Train F1 score: 0.69\n"
     ]
    }
   ],
   "source": [
    "num_queries = 10\n",
    "\n",
    "for i in range(num_queries):\n",
    "    indices_queried = active_learner.query(num_samples=10)\n",
    "    y = train.y[indices_queried]\n",
    "    active_learner.update(y)\n",
    "\n",
    "    y_pred = active_learner.classifier.predict(train)\n",
    "    print(f'\\nIteration {i+1}')\n",
    "    print('Train accuracy: {:.2f}'.format(accuracy_score(train.y, y_pred)))\n",
    "    print('Train precision: {:.2f}'.format(precision_score(train.y, y_pred, zero_division=np.nan)))\n",
    "    print('Train recall: {:.2f}'.format(recall_score(train.y, y_pred, zero_division=np.nan)))\n",
    "    print('Train F1 score: {:.2f}'.format(f1_score(train.y, y_pred)))"
   ]
  }
 ],
 "metadata": {
  "kernelspec": {
   "display_name": ".venv",
   "language": "python",
   "name": "python3"
  },
  "language_info": {
   "codemirror_mode": {
    "name": "ipython",
    "version": 3
   },
   "file_extension": ".py",
   "mimetype": "text/x-python",
   "name": "python",
   "nbconvert_exporter": "python",
   "pygments_lexer": "ipython3",
   "version": "3.8.10"
  }
 },
 "nbformat": 4,
 "nbformat_minor": 2
}
