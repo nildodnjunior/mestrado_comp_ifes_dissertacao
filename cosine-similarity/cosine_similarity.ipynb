{
 "cells": [
  {
   "cell_type": "code",
   "execution_count": 26,
   "metadata": {},
   "outputs": [],
   "source": [
    "import numpy as np\n",
    "import pandas as pd\n",
    "import os\n",
    "import csv\n",
    "\n",
    "from synergy_dataset import Dataset, iter_datasets\n",
    "from sentence_transformers import SentenceTransformer, util"
   ]
  },
  {
   "cell_type": "code",
   "execution_count": 27,
   "metadata": {},
   "outputs": [],
   "source": [
    "def acuracia(lista, n):\n",
    "    return len([i for i,_ in enumerate(lista[:n]) if lista[:n][i][0] == 1])/len(lista[:n])"
   ]
  },
  {
   "cell_type": "code",
   "execution_count": 28,
   "metadata": {},
   "outputs": [],
   "source": [
    "def cria_dataset(dataset):\n",
    "    ds = Dataset(dataset)\n",
    "    ds = ds.to_frame()\n",
    "    ds = ds.dropna()\n",
    "    title = ds['title']\n",
    "    abstract = ds['abstract']\n",
    "    X = np.array([x[0] + ' ' + x[1] for x in zip(title, abstract)])\n",
    "    y = np.array(ds['label_included'])\n",
    "\n",
    "    return X, y"
   ]
  },
  {
   "cell_type": "code",
   "execution_count": 29,
   "metadata": {},
   "outputs": [],
   "source": [
    "model_checkpoints = ['sentence-transformers/all-MiniLM-L6-v2', 'google-bert/bert-base-uncased', 'allenai/scibert_scivocab_uncased']\n",
    "datasets = ['Nelson_2002', 'Donners_2021', 'Jeyaraman_2020', 'Muthu_2021', 'van_der_Valk_2021']"
   ]
  },
  {
   "cell_type": "code",
   "execution_count": 31,
   "metadata": {},
   "outputs": [
    {
     "name": "stderr",
     "output_type": "stream",
     "text": [
      "/home/junior/Mestrado Comp Ifes/Dissertação/folder/.venv/lib/python3.8/site-packages/huggingface_hub/file_download.py:1132: FutureWarning: `resume_download` is deprecated and will be removed in version 1.0.0. Downloads always resume when possible. If you want to force a new download, use `force_download=True`.\n",
      "  warnings.warn(\n"
     ]
    }
   ],
   "source": [
    "for model_checkpoint in model_checkpoints:\n",
    "    model = SentenceTransformer(model_checkpoint)\n",
    "    folder_model = model_checkpoint.split(\"/\")[-1]\n",
    "    for dataset in datasets:\n",
    "        X, y = cria_dataset(dataset)\n",
    "\n",
    "        X_embedded = model.encode(X)\n",
    "        labels_1_idx = [i for i, _ in enumerate(y) if y[i] == 1]\n",
    "\n",
    "        for index, example_id in enumerate(labels_1_idx):\n",
    "            label = y[example_id]\n",
    "            abstract_emb = X_embedded[example_id]\n",
    "            list_other_labels = [l for i, l in enumerate(y) if i != example_id]\n",
    "            list_other_abstracts = [x for i, x in enumerate(X_embedded) if i != example_id]\n",
    "            results = []\n",
    "            for other_label, other_abstract_emb in zip(list_other_labels, list_other_abstracts):\n",
    "                similarity = util.cos_sim(abstract_emb, other_abstract_emb)\n",
    "                results.append((other_label, similarity.item()))\n",
    "            results.sort(key=lambda x: x[1], reverse=True)\n",
    "\n",
    "            if not os.path.exists(folder_model):\n",
    "                os.makedirs(folder_model)\n",
    "            if not os.path.exists(f'{folder_model}/{dataset}'):\n",
    "                os.makedirs(f'{folder_model}/{dataset}')\n",
    "            with open(f'{folder_model}/{dataset}/{folder_model} - {dataset} - {str(index).rjust(3, \"0\")}.csv', 'w+') as f:\n",
    "                write = csv.writer(f)\n",
    "                write.writerow(['label', 'similarity'])\n",
    "                write.writerows(results)\n",
    "                write.writerow(['acc3', acuracia(results, 3)])\n",
    "                write.writerow(['acc5', acuracia(results, 5)])\n",
    "                write.writerow(['acc7', acuracia(results, 7)])\n",
    "                write.writerow(['acc10', acuracia(results, 10)])\n",
    "                write.writerow(['acc total', acuracia(results, len(results))])"
   ]
  }
 ],
 "metadata": {
  "kernelspec": {
   "display_name": ".venv",
   "language": "python",
   "name": "python3"
  },
  "language_info": {
   "codemirror_mode": {
    "name": "ipython",
    "version": 3
   },
   "file_extension": ".py",
   "mimetype": "text/x-python",
   "name": "python",
   "nbconvert_exporter": "python",
   "pygments_lexer": "ipython3",
   "version": "3.8.10"
  }
 },
 "nbformat": 4,
 "nbformat_minor": 2
}
