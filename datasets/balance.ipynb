{
 "cells": [
  {
   "cell_type": "code",
   "execution_count": 22,
   "metadata": {},
   "outputs": [],
   "source": [
    "import pandas as pd\n",
    "import numpy as np\n",
    "import os"
   ]
  },
  {
   "cell_type": "code",
   "execution_count": 63,
   "metadata": {},
   "outputs": [
    {
     "name": "stdout",
     "output_type": "stream",
     "text": [
      "ace.csv 2544 1.6116\n",
      "hall.csv 8911 1.1671\n",
      "nudging.csv 1847 5.4142\n",
      "ptsd.csv 5782 0.6572\n",
      "software.csv 8896 1.1691\n",
      "virus.csv 2481 4.8368\n",
      "wilson.csv 2333 0.9859\n"
     ]
    }
   ],
   "source": [
    "for filename in list(filter(lambda x: x.split('.')[1] == 'csv' if len(x.split('.')) > 1 else False, os.listdir('.'))):\n",
    "    df = pd.read_csv(filename, sep=',')\n",
    "    if 'included' in df.columns:\n",
    "        print(filename, len(df), round((len(df[df['included']==1])/len(df))*100, 4))\n",
    "    else:\n",
    "        print(filename, len(df), round((len(df[df['label_included']==1])/len(df))*100, 4))"
   ]
  },
  {
   "cell_type": "code",
   "execution_count": 64,
   "metadata": {},
   "outputs": [
    {
     "name": "stdout",
     "output_type": "stream",
     "text": [
      "Appenzeller-Herzog_2019.csv 2873 0.905\n",
      "Bos_2018.csv 4878 0.205\n",
      "Brouwer_2019.csv 38114 0.1627\n",
      "Chou_2003.csv 1908 0.7862\n",
      "Chou_2004.csv 1630 0.5521\n",
      "Donners_2021.csv 258 5.814\n",
      "Hall_2012.csv 8793 1.1828\n",
      "Jeyaraman_2020.csv 1175 8.1702\n",
      "Leenaars_2019.csv 5812 0.2925\n",
      "Leenaars_2020.csv 7216 8.0793\n",
      "Meijboom_2021.csv 882 4.195\n",
      "Menon_2022.csv 975 7.5897\n",
      "Moran_2021.csv 5214 2.1289\n",
      "Muthu_2021.csv 2719 12.3575\n",
      "Nelson_2002.csv 366 21.8579\n",
      "Oud_2018.csv 952 2.1008\n",
      "Radjenovic_2013.csv 5935 0.8088\n",
      "Sep_2021.csv 271 14.7601\n",
      "Smid_2020.csv 2627 1.0278\n",
      "van_der_Valk_2021.csv 725 12.2759\n",
      "van_der_Waal_2022.csv 1970 1.6751\n",
      "van_de_Schoot_2018.csv 4544 0.8363\n",
      "van_Dis_2020.csv 9128 0.7888\n",
      "Walker_2018.csv 48375 1.5752\n",
      "Wassenaar_2017.csv 7668 1.4476\n",
      "Wolters_2018.csv 4280 0.4439\n"
     ]
    }
   ],
   "source": [
    "for filename in list(filter(lambda x: x.split('.')[1] == 'csv' if len(x.split('.')) > 1 else False, os.listdir('synergy_dataset'))):\n",
    "    df = pd.read_csv(os.path.join('synergy_dataset', filename), sep=',')\n",
    "    if 'included' in df.columns:\n",
    "        print(filename, len(df), round((len(df[df['included']==1])/len(df))*100, 4))\n",
    "    else:\n",
    "        print(filename, len(df), round((len(df[df['label_included']==1])/len(df))*100, 4))"
   ]
  }
 ],
 "metadata": {
  "kernelspec": {
   "display_name": "Python 3",
   "language": "python",
   "name": "python3"
  },
  "language_info": {
   "codemirror_mode": {
    "name": "ipython",
    "version": 3
   },
   "file_extension": ".py",
   "mimetype": "text/x-python",
   "name": "python",
   "nbconvert_exporter": "python",
   "pygments_lexer": "ipython3",
   "version": "3.10.4"
  },
  "orig_nbformat": 4,
  "vscode": {
   "interpreter": {
    "hash": "df849a1fc921a9d42e70dd97e5727ee0eb77908ac005494cd2d857a412f49a46"
   }
  }
 },
 "nbformat": 4,
 "nbformat_minor": 2
}
